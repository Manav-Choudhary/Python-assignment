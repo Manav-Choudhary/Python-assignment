{
 "cells": [
  {
   "cell_type": "code",
   "execution_count": 41,
   "id": "339163d0",
   "metadata": {},
   "outputs": [
    {
     "data": {
      "text/plain": [
       "[('Virat Kohli', 24936),\n",
       " ('Jack Kallis', 25534),\n",
       " ('Ricky Ponting', 27483),\n",
       " ('Sachin Tendulkar', 34357)]"
      ]
     },
     "execution_count": 41,
     "metadata": {},
     "output_type": "execute_result"
    }
   ],
   "source": [
    "#Ques 1\n",
    "mylist=[('Sachin Tendulkar', 34357), ('Ricky Ponting', 27483), ('Jack Kallis', 25534), ('Virat Kohli', 24936)]\n",
    "ans=sorted(mylist,key=lambda x:x[1])\n",
    "ans"
   ]
  },
  {
   "cell_type": "code",
   "execution_count": 8,
   "id": "f8b62e7a",
   "metadata": {},
   "outputs": [
    {
     "data": {
      "text/plain": [
       "[1, 4, 9, 16, 25, 36, 49, 64, 81, 100]"
      ]
     },
     "execution_count": 8,
     "metadata": {},
     "output_type": "execute_result"
    }
   ],
   "source": [
    "#Ques 2\n",
    "li=[x for x in range(1,11)]\n",
    "sq=map(lambda x:x**2,li)\n",
    "list(sq)"
   ]
  },
  {
   "cell_type": "code",
   "execution_count": 9,
   "id": "d1d9d0ec",
   "metadata": {},
   "outputs": [
    {
     "data": {
      "text/plain": [
       "['1', '2', '3', '4', '5', '6', '7', '8', '9', '10']"
      ]
     },
     "execution_count": 9,
     "metadata": {},
     "output_type": "execute_result"
    }
   ],
   "source": [
    "#Ques 3\n",
    "li=[x for x in range(1,11)]\n",
    "st=map(lambda x:str(x),li)\n",
    "list(st)"
   ]
  },
  {
   "cell_type": "code",
   "execution_count": 13,
   "id": "8e92bf11",
   "metadata": {},
   "outputs": [
    {
     "data": {
      "text/plain": [
       "15511210043330985984000000"
      ]
     },
     "execution_count": 13,
     "metadata": {},
     "output_type": "execute_result"
    }
   ],
   "source": [
    "#Ques 4\n",
    "import functools\n",
    "li=[x for x in range(1,26)]\n",
    "pdt=functools.reduce(lambda x,y:x*y,li)\n",
    "pdt"
   ]
  },
  {
   "cell_type": "code",
   "execution_count": 15,
   "id": "bbd66732",
   "metadata": {},
   "outputs": [
    {
     "data": {
      "text/plain": [
       "[6, 60, 90, 120]"
      ]
     },
     "execution_count": 15,
     "metadata": {},
     "output_type": "execute_result"
    }
   ],
   "source": [
    "#Ques 5\n",
    "li=[2, 3, 6, 9, 27, 60, 90, 120, 55, 46]\n",
    "#filter the numbers in a given list that are divisible by 2 and 3\n",
    "ans=filter(lambda x:x%2==0 and x%3==0,li)\n",
    "list(ans)"
   ]
  },
  {
   "cell_type": "code",
   "execution_count": 40,
   "id": "099fd143",
   "metadata": {},
   "outputs": [
    {
     "data": {
      "text/plain": [
       "['php', 'aba', 'radar', 'level']"
      ]
     },
     "execution_count": 40,
     "metadata": {},
     "output_type": "execute_result"
    }
   ],
   "source": [
    "#Ques 6\n",
    "mylist = ['python', 'php', 'aba', 'radar', 'level']\n",
    "ans = list(filter(lambda st: st == ''.join(reversed(st)), mylist))\n",
    "ans"
   ]
  }
 ],
 "metadata": {
  "kernelspec": {
   "display_name": "Python 3 (ipykernel)",
   "language": "python",
   "name": "python3"
  },
  "language_info": {
   "codemirror_mode": {
    "name": "ipython",
    "version": 3
   },
   "file_extension": ".py",
   "mimetype": "text/x-python",
   "name": "python",
   "nbconvert_exporter": "python",
   "pygments_lexer": "ipython3",
   "version": "3.9.7"
  }
 },
 "nbformat": 4,
 "nbformat_minor": 5
}
